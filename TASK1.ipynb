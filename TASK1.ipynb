{
  "nbformat": 4,
  "nbformat_minor": 0,
  "metadata": {
    "colab": {
      "provenance": []
    },
    "kernelspec": {
      "name": "python3",
      "display_name": "Python 3"
    },
    "language_info": {
      "name": "python"
    }
  },
  "cells": [
    {
      "cell_type": "markdown",
      "source": [
        "# Task 1 - Spelling Checker\n",
        "Using this dictionary, implement a spell checker class that takes this dictionary as input, this\n",
        "class has three main operations:\n",
        "##### • Store this dictionary in a suitable data structure.\n",
        "##### • Take an input word and return the nearest 4 words if this word is not in the dictionary\n",
        "##### • Take an input word and add this word to the dictionary For each operation specify the time and space complexity\n",
        "##### Note: You could assume that the nearest 4 words from a word are the 2 words before and after this word in lexicographic order if they exist."
      ],
      "metadata": {
        "id": "zoMOzYhwmnN1"
      }
    },
    {
      "cell_type": "code",
      "source": [
        "import pandas as pd\n",
        "import numpy as np\n",
        "import re\n",
        "from sklearn.feature_extraction.text import CountVectorizer\n",
        "from sklearn.metrics.pairwise import cosine_similarity\n",
        "import spacy\n",
        "import difflib\n",
        "from difflib import get_close_matches\n",
        "\n"
      ],
      "metadata": {
        "id": "p9uoSuCxncgN"
      },
      "execution_count": null,
      "outputs": []
    },
    {
      "cell_type": "code",
      "execution_count": null,
      "metadata": {
        "id": "G1UCMDATKKLq"
      },
      "outputs": [],
      "source": [
        "data = pd.read_csv('/content/dictionary.txt',delimiter='\\t', encoding='iso-8859-1', encoding_errors='replace',dtype=str)"
      ]
    },
    {
      "cell_type": "code",
      "source": [
        "data.info()"
      ],
      "metadata": {
        "colab": {
          "base_uri": "https://localhost:8080/"
        },
        "id": "DYL0Z9rnnghi",
        "outputId": "52839352-28c3-466e-d957-8dd2b943e7fb"
      },
      "execution_count": null,
      "outputs": [
        {
          "output_type": "stream",
          "name": "stdout",
          "text": [
            "<class 'pandas.core.frame.DataFrame'>\n",
            "RangeIndex: 84093 entries, 0 to 84092\n",
            "Data columns (total 1 columns):\n",
            " #   Column  Non-Null Count  Dtype \n",
            "---  ------  --------------  ----- \n",
            " 0   a       84091 non-null  object\n",
            "dtypes: object(1)\n",
            "memory usage: 657.1+ KB\n"
          ]
        }
      ]
    },
    {
      "cell_type": "code",
      "source": [
        "data_series = data['a']"
      ],
      "metadata": {
        "id": "3W8H5sstwvro"
      },
      "execution_count": null,
      "outputs": []
    },
    {
      "cell_type": "code",
      "source": [
        "data_series = list(data_series)"
      ],
      "metadata": {
        "id": "cXwkiPWx4GJF"
      },
      "execution_count": null,
      "outputs": []
    },
    {
      "cell_type": "code",
      "source": [
        "type(data_series)"
      ],
      "metadata": {
        "colab": {
          "base_uri": "https://localhost:8080/"
        },
        "id": "r-kbRvBZ-53u",
        "outputId": "1ac24b56-ee76-4f80-fd1c-28ebc101f20a"
      },
      "execution_count": null,
      "outputs": [
        {
          "output_type": "execute_result",
          "data": {
            "text/plain": [
              "list"
            ]
          },
          "metadata": {},
          "execution_count": 147
        }
      ]
    },
    {
      "cell_type": "code",
      "source": [
        "data_dict = {}\n",
        "all_words = []\n",
        "keys = list(data_dict.keys())\n",
        "for i in range(len(data_series)):\n",
        "  if(len(list(data_dict.keys())) != len(keys)):\n",
        "    keys = list(data_dict.keys())\n",
        "\n",
        "  else:\n",
        "    all_words.append(str(data_series[i]))\n",
        "    data_series[i] = str(data_series[i])\n",
        "    if data_series[i][0] in keys :\n",
        "      data_dict[data_series[i][0]].append(data_series[i])\n",
        "    else :\n",
        "      data_dict[data_series[i][0]] = []\n",
        "      data_dict[data_series[i][0]].append(data_series[i])\n"
      ],
      "metadata": {
        "id": "fzpv1jPOucUL"
      },
      "execution_count": null,
      "outputs": []
    },
    {
      "cell_type": "code",
      "source": [
        "data_dict.keys()"
      ],
      "metadata": {
        "colab": {
          "base_uri": "https://localhost:8080/"
        },
        "id": "V0KWs7IK0n4M",
        "outputId": "3423be3b-19d9-4ec9-ce9d-d26972486efe"
      },
      "execution_count": null,
      "outputs": [
        {
          "output_type": "execute_result",
          "data": {
            "text/plain": [
              "dict_keys(['a', 'b', 'c', 'd', 'e', 'f', 'g', 'h', 'i', 'j', 'k', 'l', 'm', 'n', 'o', 'p', 'q', 'r', 's', 't', 'u', 'v', 'w', 'x', 'y', 'z'])"
            ]
          },
          "metadata": {},
          "execution_count": 309
        }
      ]
    },
    {
      "cell_type": "code",
      "source": [
        "class SpellChecker:\n",
        "    def __init__(self, words_dict):\n",
        "        # Store the dictionary in a suitable data structure\n",
        "        self.dictionary = words_dict\n",
        "        self.all_words = [word for words in self.dictionary.values() for word in words]\n",
        "\n",
        "\n",
        "    def check_word(self, word):\n",
        "        # Check if the word is in the dictionary\n",
        "        if word.lower() in self.dictionary[word[0].lower()]:\n",
        "            return word\n",
        "\n",
        "        # Find the nearest 4 words\n",
        "        # get the list of words that start with the same letter as the input word\n",
        "        first_letter = word[0].lower()\n",
        "        word_list = self.dictionary.get(first_letter, [])\n",
        "        nearest_words = get_close_matches(word, word_list, n=4, cutoff=0.6)\n",
        "\n",
        "\n",
        "\n",
        "        return nearest_words\n",
        "\n",
        "\n",
        "        # return nearest_words\n",
        "\n",
        "    def add_word(self, word):\n",
        "        # Add the word to the dictionary\n",
        "        self.dictionary[word[0].lower()].append(word.lower())\n",
        "\n",
        "    def check_exists(self,word):\n",
        "      if word.lower() in self.dictionary[word[0].lower()]:\n",
        "        print(f\"{word} is included\\n\")\n",
        "      else:\n",
        "        print(f\"{word} not exiting!!!\\n\")\n",
        "\n",
        "'''\n",
        "Time complexity: O(n) if word exist and o(k*m) if will get the 4 similar words.\n",
        "where k:  is the number of elements in the word, and m: the maximum length of words in the list\n",
        "Space complexity: O(n) to store the dictionary in a hash table or a tree data structure\n",
        "'''"
      ],
      "metadata": {
        "id": "JewEJW-jbw4X",
        "colab": {
          "base_uri": "https://localhost:8080/",
          "height": 53
        },
        "outputId": "006de40b-dc3e-4b43-c958-216847a39008"
      },
      "execution_count": 1,
      "outputs": [
        {
          "output_type": "execute_result",
          "data": {
            "text/plain": [
              "'\\nTime complexity: O(n) if word exist and o(k*m) if will get the 4 similar words. where k:  is the number of elements in the word and initialization, O(log n) for word lookup and insertion\\nSpace complexity: O(n) to store the dictionary in a hash table or a tree data structure\\n'"
            ],
            "application/vnd.google.colaboratory.intrinsic+json": {
              "type": "string"
            }
          },
          "metadata": {},
          "execution_count": 1
        }
      ]
    },
    {
      "cell_type": "code",
      "source": [
        "spell_obj = SpellChecker(data_dict)\n",
        "word = 'carrie'\n",
        "similar_word = spell_obj.check_word(word)\n",
        "print(f\"The most similar word to '{word}' is '{similar_word}'.\")\n",
        "spell_obj.check_exists('WideBot')"
      ],
      "metadata": {
        "colab": {
          "base_uri": "https://localhost:8080/"
        },
        "id": "_WhKYnWPHWqz",
        "outputId": "13936ee7-ee54-49d0-fdea-32e8094eb77b"
      },
      "execution_count": null,
      "outputs": [
        {
          "output_type": "stream",
          "name": "stdout",
          "text": [
            "The most similar word to 'carrie' is '['carries', 'carrier', 'carried', 'carriers']'.\n",
            "WideBot not exiting!!!\n",
            "\n"
          ]
        }
      ]
    },
    {
      "cell_type": "code",
      "source": [
        "spell_obj.add_word(\"WideBot\")\n",
        "spell_obj.check_exists('WideBot')"
      ],
      "metadata": {
        "colab": {
          "base_uri": "https://localhost:8080/"
        },
        "id": "iGuhuzkVfwrc",
        "outputId": "1d69f744-3291-4688-9ed4-cad28c4f862e"
      },
      "execution_count": null,
      "outputs": [
        {
          "output_type": "stream",
          "name": "stdout",
          "text": [
            "WideBot is included\n",
            "\n"
          ]
        }
      ]
    },
    {
      "cell_type": "code",
      "source": [
        "# TEST\n",
        "a = 'Thanks for calling America Expansion'\n",
        "b = 'Thanks for calling American Express'\n",
        "\n",
        "seq = difflib.SequenceMatcher(None,a,b)\n",
        "d = seq.ratio()*100\n",
        "print(d)\n",
        "### OUTPUT: 87.323943"
      ],
      "metadata": {
        "colab": {
          "base_uri": "https://localhost:8080/"
        },
        "id": "nbGlSV59INYu",
        "outputId": "0a7a84ad-3d9a-41df-c8f7-83754c353784"
      },
      "execution_count": null,
      "outputs": [
        {
          "output_type": "stream",
          "name": "stdout",
          "text": [
            "87.32394366197182\n"
          ]
        }
      ]
    },
    {
      "cell_type": "code",
      "source": [],
      "metadata": {
        "id": "TuS_UiUCa2Ah"
      },
      "execution_count": null,
      "outputs": []
    }
  ]
}